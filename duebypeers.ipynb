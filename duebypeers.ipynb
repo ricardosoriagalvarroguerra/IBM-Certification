{
  "metadata": {
    "kernelspec": {
      "name": "python",
      "display_name": "Python (Pyodide)",
      "language": "python"
    },
    "language_info": {
      "codemirror_mode": {
        "name": "python",
        "version": 3
      },
      "file_extension": ".py",
      "mimetype": "text/x-python",
      "name": "python",
      "nbconvert_exporter": "python",
      "pygments_lexer": "ipython3",
      "version": "3.8"
    }
  },
  "nbformat_minor": 4,
  "nbformat": 4,
  "cells": [
    {
      "cell_type": "markdown",
      "source": "# Título del Cuaderno: due by peers",
      "metadata": {}
    },
    {
      "cell_type": "markdown",
      "source": "## Introducción\nEste cuaderno contiene un resumen de las herramientas y bibliotecas de ciencia de datos aprendidas durante el curso. También incluye ejemplos de expresiones aritméticas y conversiones de unidades.\n",
      "metadata": {}
    },
    {
      "cell_type": "markdown",
      "source": "## Lenguajes de Ciencia de Datos\n- Python\n- R\n- SQL\n- Julia\n- Scala\n",
      "metadata": {}
    },
    {
      "cell_type": "markdown",
      "source": "## Bibliotecas de Ciencia de Datos\n- Pandas\n- NumPy\n- Matplotlib\n- Seaborn\n- Scikit-learn\n- TensorFlow\n- Keras\n",
      "metadata": {}
    },
    {
      "cell_type": "markdown",
      "source": "## Herramientas de Ciencia de Datos\n\n| Herramienta        | Descripción                          |\n|--------------------|--------------------------------------|\n| Jupyter Notebooks  | Entorno interactivo de programación  |\n| RStudio            | IDE para R                           |\n| Apache Spark       | Motor de procesamiento de datos      |\n| Tableau            | Herramienta de visualización de datos|\n| GitHub             | Plataforma de control de versiones   |\n",
      "metadata": {}
    },
    {
      "cell_type": "markdown",
      "source": "## Ejemplos de Expresiones Aritméticas\nA continuación se presentan algunos ejemplos de expresiones aritméticas básicas.\n",
      "metadata": {}
    },
    {
      "cell_type": "code",
      "source": "# Multiplicar y sumar números\na = 5\nb = 4\nmultiplicacion = a * b\nsuma = a + b\nmultiplicacion, suma\n",
      "metadata": {
        "trusted": true
      },
      "outputs": [
        {
          "execution_count": 2,
          "output_type": "execute_result",
          "data": {
            "text/plain": "(20, 9)"
          },
          "metadata": {}
        }
      ],
      "execution_count": 2
    },
    {
      "cell_type": "code",
      "source": "# Convertir minutos en horas\nminutos = 120\nhoras = minutos / 60\nhoras\n",
      "metadata": {
        "trusted": true
      },
      "outputs": [
        {
          "execution_count": 3,
          "output_type": "execute_result",
          "data": {
            "text/plain": "2.0"
          },
          "metadata": {}
        }
      ],
      "execution_count": 3
    },
    {
      "cell_type": "code",
      "source": "# Lista de Objetivos\nobjetivos = [\n    \"Aprender los fundamentos de la ciencia de datos.\",\n    \"Familiarizarse con las herramientas y bibliotecas populares.\",\n    \"Aplicar conceptos a proyectos prácticos.\"\n]\n\nfor objetivo in objetivos:\n    print(f\"- {objetivo}\")\n\n",
      "metadata": {
        "trusted": true
      },
      "outputs": [
        {
          "name": "stdout",
          "text": "- Aprender los fundamentos de la ciencia de datos.\n- Familiarizarse con las herramientas y bibliotecas populares.\n- Aplicar conceptos a proyectos prácticos.\n",
          "output_type": "stream"
        }
      ],
      "execution_count": 5
    },
    {
      "cell_type": "markdown",
      "source": "## Autor\nRicardo Soria\n",
      "metadata": {}
    },
    {
      "cell_type": "code",
      "source": "",
      "metadata": {
        "trusted": true
      },
      "outputs": [],
      "execution_count": null
    }
  ]
}